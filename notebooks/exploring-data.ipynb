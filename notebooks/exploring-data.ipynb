{
 "cells": [
  {
   "cell_type": "code",
   "execution_count": 1,
   "metadata": {},
   "outputs": [],
   "source": [
    "import logging\n",
    "for handler in logging.root.handlers[:]:\n",
    "    logging.root.removeHandler(handler)\n",
    "\n",
    "logging.basicConfig(format='[%(levelname)s] %(asctime)s:\\t %(message)s')\n",
    "logger = logging.getLogger()\n",
    "logger.setLevel(logging.INFO)"
   ]
  },
  {
   "cell_type": "code",
   "execution_count": 2,
   "metadata": {},
   "outputs": [
    {
     "name": "stderr",
     "output_type": "stream",
     "text": [
      "[INFO] 2023-04-23 22:08:25,217:\t Local module 'almop' not found in system path. Appending...\n"
     ]
    }
   ],
   "source": [
    "import sys\n",
    "import os\n",
    "\n",
    "if f\"{os.getcwd()}/../\" not in ' '.join(sys.path):\n",
    "    logging.info('Local module \\'almop\\' not found in system path. Appending...')\n",
    "    sys.path.append(f\"{os.getcwd()}/../\")"
   ]
  },
  {
   "cell_type": "code",
   "execution_count": 3,
   "metadata": {},
   "outputs": [],
   "source": [
    "#from almop import data as ald\n",
    "from almop import data as ald\n",
    "from almop import core as alc\n",
    "import pandas as pd"
   ]
  },
  {
   "cell_type": "code",
   "execution_count": 4,
   "metadata": {},
   "outputs": [
    {
     "data": {
      "text/plain": [
       "{'dataset_persist_dir': '/home/stanisz/wd4own/'}"
      ]
     },
     "execution_count": 4,
     "metadata": {},
     "output_type": "execute_result"
    }
   ],
   "source": [
    "config = alc.parse_config('config.toml')\n",
    "config"
   ]
  },
  {
   "cell_type": "code",
   "execution_count": 10,
   "metadata": {},
   "outputs": [
    {
     "name": "stderr",
     "output_type": "stream",
     "text": [
      "[INFO] 2023-04-23 22:08:53,405:\t Successfully loaded 'eurostat/PRC_HPI_Q' from disk.\n"
     ]
    }
   ],
   "source": [
    "hpi_raw = ald.get_hpi(config, ['PL', 'DE', 'IT', 'BE', 'SE'])"
   ]
  },
  {
   "cell_type": "code",
   "execution_count": null,
   "metadata": {},
   "outputs": [],
   "source": [
    "hpi = hpi_raw.copy()\n",
    "hpi.head()"
   ]
  },
  {
   "cell_type": "code",
   "execution_count": null,
   "metadata": {},
   "outputs": [],
   "source": [
    "_ = hpi.plot(xlabel='Time', ylabel='HPI change [%]', title='Month-on-month HPI change for selected european countries', figsize=(18, 8), legend=True )"
   ]
  },
  {
   "attachments": {},
   "cell_type": "markdown",
   "metadata": {},
   "source": [
    "I see the following issues with HPI data loaded above:\n",
    "1. It's not very granular - quarterly sampling\n",
    "    * Low observation count per time series\n",
    "2. Data for **Poland** is missing for a third of the whole time period\n",
    "    * Will need to either drop data for other countries when not available for **Poland** or backfill for **Poland**"
   ]
  }
 ],
 "metadata": {
  "kernelspec": {
   "display_name": "Python 3",
   "language": "python",
   "name": "python3"
  },
  "language_info": {
   "codemirror_mode": {
    "name": "ipython",
    "version": 3
   },
   "file_extension": ".py",
   "mimetype": "text/x-python",
   "name": "python",
   "nbconvert_exporter": "python",
   "pygments_lexer": "ipython3",
   "version": "3.10.11"
  },
  "orig_nbformat": 4
 },
 "nbformat": 4,
 "nbformat_minor": 2
}
