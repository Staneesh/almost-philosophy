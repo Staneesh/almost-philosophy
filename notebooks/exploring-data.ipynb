{
 "cells": [
  {
   "cell_type": "code",
   "execution_count": 11,
   "metadata": {},
   "outputs": [],
   "source": [
    "import logging\n",
    "for handler in logging.root.handlers[:]:\n",
    "    logging.root.removeHandler(handler)\n",
    "\n",
    "logging.basicConfig(format='[%(levelname)s] %(asctime)s:\\t %(message)s')\n",
    "logger = logging.getLogger()\n",
    "logger.setLevel(logging.INFO)"
   ]
  },
  {
   "cell_type": "code",
   "execution_count": 12,
   "metadata": {},
   "outputs": [],
   "source": [
    "import sys\n",
    "\n",
    "if 'almop' not in ' '.join(sys.path):\n",
    "    logging.info('Local module \\'almop\\' not found in system path. Appending...')\n",
    "    sys.path.append('../almop')"
   ]
  },
  {
   "cell_type": "code",
   "execution_count": 13,
   "metadata": {},
   "outputs": [],
   "source": [
    "import almop\n",
    "import eurostat"
   ]
  },
  {
   "cell_type": "code",
   "execution_count": 29,
   "metadata": {},
   "outputs": [],
   "source": [
    "# Downloading House Price Index data\n",
    "hpi_raw = eurostat.get_data_df('PRC_HPI_Q')"
   ]
  },
  {
   "cell_type": "code",
   "execution_count": 31,
   "metadata": {},
   "outputs": [
    {
     "data": {
      "text/html": [
       "<div>\n",
       "<style scoped>\n",
       "    .dataframe tbody tr th:only-of-type {\n",
       "        vertical-align: middle;\n",
       "    }\n",
       "\n",
       "    .dataframe tbody tr th {\n",
       "        vertical-align: top;\n",
       "    }\n",
       "\n",
       "    .dataframe thead th {\n",
       "        text-align: right;\n",
       "    }\n",
       "</style>\n",
       "<table border=\"1\" class=\"dataframe\">\n",
       "  <thead>\n",
       "    <tr style=\"text-align: right;\">\n",
       "      <th></th>\n",
       "      <th>freq</th>\n",
       "      <th>purchase</th>\n",
       "      <th>unit</th>\n",
       "      <th>geo\\TIME_PERIOD</th>\n",
       "      <th>2005-Q1</th>\n",
       "      <th>2005-Q2</th>\n",
       "      <th>2005-Q3</th>\n",
       "      <th>2005-Q4</th>\n",
       "      <th>2006-Q1</th>\n",
       "      <th>2006-Q2</th>\n",
       "      <th>...</th>\n",
       "      <th>2020-Q3</th>\n",
       "      <th>2020-Q4</th>\n",
       "      <th>2021-Q1</th>\n",
       "      <th>2021-Q2</th>\n",
       "      <th>2021-Q3</th>\n",
       "      <th>2021-Q4</th>\n",
       "      <th>2022-Q1</th>\n",
       "      <th>2022-Q2</th>\n",
       "      <th>2022-Q3</th>\n",
       "      <th>2022-Q4</th>\n",
       "    </tr>\n",
       "  </thead>\n",
       "  <tbody>\n",
       "    <tr>\n",
       "      <th>373</th>\n",
       "      <td>Q</td>\n",
       "      <td>TOTAL</td>\n",
       "      <td>RCH_Q</td>\n",
       "      <td>PL</td>\n",
       "      <td>NaN</td>\n",
       "      <td>NaN</td>\n",
       "      <td>NaN</td>\n",
       "      <td>NaN</td>\n",
       "      <td>NaN</td>\n",
       "      <td>NaN</td>\n",
       "      <td>...</td>\n",
       "      <td>2.0</td>\n",
       "      <td>1.0</td>\n",
       "      <td>2.0</td>\n",
       "      <td>3.1</td>\n",
       "      <td>2.6</td>\n",
       "      <td>3.9</td>\n",
       "      <td>3.3</td>\n",
       "      <td>2.0</td>\n",
       "      <td>2.4</td>\n",
       "      <td>1.4</td>\n",
       "    </tr>\n",
       "  </tbody>\n",
       "</table>\n",
       "<p>1 rows × 76 columns</p>\n",
       "</div>"
      ],
      "text/plain": [
       "    freq purchase   unit geo\\TIME_PERIOD  2005-Q1  2005-Q2  2005-Q3  2005-Q4   \n",
       "373    Q    TOTAL  RCH_Q              PL      NaN      NaN      NaN      NaN  \\\n",
       "\n",
       "     2006-Q1  2006-Q2  ...  2020-Q3  2020-Q4  2021-Q1  2021-Q2  2021-Q3   \n",
       "373      NaN      NaN  ...      2.0      1.0      2.0      3.1      2.6  \\\n",
       "\n",
       "     2021-Q4  2022-Q1  2022-Q2  2022-Q3  2022-Q4  \n",
       "373      3.9      3.3      2.0      2.4      1.4  \n",
       "\n",
       "[1 rows x 76 columns]"
      ]
     },
     "execution_count": 31,
     "metadata": {},
     "output_type": "execute_result"
    }
   ],
   "source": [
    "hpi = hpi_raw.copy()   # Create another variable to prevent writing to `hpi_raw` on accident. \n",
    "hpi = hpi.loc[hpi['geo\\TIME_PERIOD'] == 'PL']\n",
    "hpi = hpi.loc[hpi['unit'] == 'RCH_Q']\n",
    "hpi = hpi.loc[hpi['purchase'] == 'TOTAL']\n",
    "hpi.head()"
   ]
  }
 ],
 "metadata": {
  "kernelspec": {
   "display_name": "Python 3",
   "language": "python",
   "name": "python3"
  },
  "language_info": {
   "codemirror_mode": {
    "name": "ipython",
    "version": 3
   },
   "file_extension": ".py",
   "mimetype": "text/x-python",
   "name": "python",
   "nbconvert_exporter": "python",
   "pygments_lexer": "ipython3",
   "version": "3.10.11"
  },
  "orig_nbformat": 4
 },
 "nbformat": 4,
 "nbformat_minor": 2
}
