{
 "cells": [
  {
   "cell_type": "markdown",
   "metadata": {},
   "source": [
    "# `almop` Library Setup\n",
    "\n",
    "I'm developping a python library for helping me encapsulate analysis of causal structures in time series data. \n",
    "The library setup is as follows:\n",
    "1. Initialize the logger and specify the logging level\n",
    "2. Import local `almop` package path so that python will be able to call all needed functions\n",
    "3. Import `almop` modules and all other libraries"
   ]
  },
  {
   "cell_type": "markdown",
   "metadata": {},
   "source": [
    "## Step 1 - Logging"
   ]
  },
  {
   "cell_type": "code",
   "execution_count": 1,
   "metadata": {},
   "outputs": [],
   "source": [
    "import logging\n",
    "for handler in logging.root.handlers[:]:\n",
    "    logging.root.removeHandler(handler)\n",
    "\n",
    "logging.basicConfig(format='[%(levelname)s] %(asctime)s:\\t %(message)s')\n",
    "logger = logging.getLogger()\n",
    "logger.setLevel(logging.INFO)"
   ]
  },
  {
   "cell_type": "markdown",
   "metadata": {},
   "source": [
    "## Step 2 - System Path"
   ]
  },
  {
   "cell_type": "code",
   "execution_count": 2,
   "metadata": {},
   "outputs": [
    {
     "name": "stderr",
     "output_type": "stream",
     "text": [
      "[INFO] 2023-08-19 18:29:50,401:\t Local module 'almop' not found in system path. Appending...\n"
     ]
    }
   ],
   "source": [
    "import sys\n",
    "import os\n",
    "\n",
    "if f\"{os.getcwd()}/../\" not in ' '.join(sys.path):\n",
    "    logging.info('Local module \\'almop\\' not found in system path. Appending...')\n",
    "    sys.path.append(f\"{os.getcwd()}/../\")"
   ]
  },
  {
   "cell_type": "markdown",
   "metadata": {},
   "source": [
    "## Step 3 - Import Libraries"
   ]
  },
  {
   "cell_type": "code",
   "execution_count": 3,
   "metadata": {},
   "outputs": [],
   "source": [
    "#from almop import data as ald\n",
    "from almop import data as ald\n",
    "from almop import core as alc\n",
    "from almop import gpu as alg\n",
    "from almop import math as alm\n",
    "import pandas as pd"
   ]
  },
  {
   "cell_type": "markdown",
   "metadata": {},
   "source": [
    "## Parse Config\n",
    "\n",
    "I'm using a configuration file that all notebooks can refer to. It contains useful parameters defining execution, such as the location on disk where the datasets should be persisted to.\n",
    "\n",
    "**NOTE**: If you're running this for yourself, make sure to modify the config file appropriately. Everything else should then work smoothly."
   ]
  },
  {
   "cell_type": "code",
   "execution_count": 4,
   "metadata": {},
   "outputs": [
    {
     "data": {
      "text/plain": [
       "{'dataset_persist_dir': '/wd4own/'}"
      ]
     },
     "execution_count": 4,
     "metadata": {},
     "output_type": "execute_result"
    }
   ],
   "source": [
    "config = alc.parse_config('config.toml')\n",
    "config"
   ]
  },
  {
   "cell_type": "markdown",
   "metadata": {},
   "source": [
    "## Loading Data"
   ]
  },
  {
   "cell_type": "code",
   "execution_count": 5,
   "metadata": {},
   "outputs": [
    {
     "name": "stderr",
     "output_type": "stream",
     "text": [
      "[INFO] 2023-08-19 18:29:51,558:\t Successfully loaded 'eurostat/NAMQ_10_GDP' from disk.\n"
     ]
    }
   ],
   "source": [
    "gdp = ald.get_gdp(config, ['PL', 'DE', 'IT', 'BE', 'SE'])"
   ]
  },
  {
   "cell_type": "markdown",
   "metadata": {},
   "source": [
    "## Setting up `CuPy`\n",
    "\n",
    "I will use the `gpu` part of the `almop` package to initialize interactions with the system's GPUs. The goal of the setup is to prepare the environment for executing CPU/GPU agnostic code."
   ]
  },
  {
   "cell_type": "code",
   "execution_count": 6,
   "metadata": {},
   "outputs": [
    {
     "name": "stderr",
     "output_type": "stream",
     "text": [
      "[INFO] 2023-08-19 18:29:51,680:\t GPU module found 2 physical devices. Setting memory limits...\n"
     ]
    }
   ],
   "source": [
    "import cupy as cp \n",
    "\n",
    "alg.set_memory_limits() # Set GPU V-RAM limits for all units"
   ]
  },
  {
   "cell_type": "code",
   "execution_count": 11,
   "metadata": {},
   "outputs": [
    {
     "data": {
      "text/plain": [
       "<module 'numpy' from '/usr/local/lib/python3.8/dist-packages/numpy/__init__.py'>"
      ]
     },
     "execution_count": 11,
     "metadata": {},
     "output_type": "execute_result"
    }
   ],
   "source": [
    "a = gdp['PL'].dropna().values"
   ]
  },
  {
   "cell_type": "code",
   "execution_count": 12,
   "metadata": {},
   "outputs": [],
   "source": [
    "a = cp.asarray(a)\n",
    "gpu_result = alm.zscore(a)\n",
    "cpu_result = cp.asnumpy(gpu_result)\n",
    "del gpu_result"
   ]
  },
  {
   "cell_type": "code",
   "execution_count": 13,
   "metadata": {},
   "outputs": [
    {
     "data": {
      "text/plain": [
       "array([-1.51882359, -1.50497322, -1.46687385, -1.49540032, -1.40330453,\n",
       "       -1.38082068, -1.37651071, -1.36204037, -1.30165208, -1.27959327,\n",
       "       -1.27834522, -1.2811689 , -1.20585004, -1.16927216, -1.18514486,\n",
       "       -1.19671843, -1.21918603, -1.17272393, -1.12745031, -1.11635051,\n",
       "       -1.02514812, -1.0041668 , -0.94494264, -0.90524599, -0.8530553 ,\n",
       "       -0.71607844, -0.81608758, -0.76984746, -0.72202901, -0.7629304 ,\n",
       "       -0.87813   , -0.84548578, -0.9014152 , -0.92286488, -0.92810615,\n",
       "       -0.96298928, -0.9533108 , -0.90730892, -0.79997663, -0.68515604,\n",
       "       -0.60521317, -0.61416068, -0.54784348, -0.49874991, -0.41630011,\n",
       "       -0.43408685, -0.37929989, -0.27911479, -0.24535788, -0.14609866,\n",
       "       -0.09725415,  0.0524631 ,  0.15128646,  0.30230591,  0.41110554,\n",
       "        0.11955729, -0.2063597 , -0.17397267, -0.00982298,  0.0277972 ,\n",
       "        0.12623341,  0.16566204,  0.20753533,  0.2713808 ,  0.35857915,\n",
       "        0.38827245,  0.31247711,  0.20880775,  0.32552072,  0.33318499,\n",
       "        0.41685306,  0.41640366,  0.37982578,  0.38077332,  0.36490603,\n",
       "        0.45371791,  0.48541459,  0.516004  ,  0.54927901,  0.51354851,\n",
       "        0.60142096,  0.71155528,  0.67601157,  0.69449137,  0.58774927,\n",
       "        0.62291395,  0.66605154,  0.69214688,  0.80526189,  0.92296843,\n",
       "        0.94309425,  1.0052206 ,  1.11593427,  1.10064634,  1.13688851,\n",
       "        1.21107574,  1.27428771,  1.37409651,  1.35421705,  1.46411583,\n",
       "        1.47701866,  1.06302075,  1.35151519,  1.41286186,  1.50226121,\n",
       "        1.63053421,  1.71615964,  1.82422831,  2.021385  ,  2.15505087,\n",
       "        2.23797174,  2.40906286])"
      ]
     },
     "execution_count": 13,
     "metadata": {},
     "output_type": "execute_result"
    }
   ],
   "source": [
    "cpu_result"
   ]
  }
 ],
 "metadata": {
  "kernelspec": {
   "display_name": "Python 3 (ipykernel)",
   "language": "python",
   "name": "python3"
  },
  "language_info": {
   "codemirror_mode": {
    "name": "ipython",
    "version": 3
   },
   "file_extension": ".py",
   "mimetype": "text/x-python",
   "name": "python",
   "nbconvert_exporter": "python",
   "pygments_lexer": "ipython3",
   "version": "3.8.10"
  }
 },
 "nbformat": 4,
 "nbformat_minor": 2
}
